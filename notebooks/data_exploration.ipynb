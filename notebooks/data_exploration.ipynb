import pandas as pd
import matplotlib.pyplot as plt

# Load data
raw_data = pd.read_csv('../data/raw_data.csv')

# Data exploration
print(raw_data.head())
print(raw_data.describe())

# Plot distributions
raw_data.hist(figsize=(10, 8))
plt.show()
