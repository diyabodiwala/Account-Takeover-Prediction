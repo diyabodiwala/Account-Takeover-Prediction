import pandas as pd

# Load raw data
raw_data = pd.read_csv('../data/raw_data.csv')

# Feature engineering
processed_data = raw_data.copy()
processed_data['new_feature'] = processed_data['some_column'] * 2  # Example feature

# Save processed data
processed_data.to_csv('../data/processed_data.csv', index=False)
