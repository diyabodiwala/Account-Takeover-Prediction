import pandas as pd
from sklearn.metrics import classification_report
import joblib

# Load test data
data = pd.read_csv('../data/features.csv')
X_test = data.drop('target', axis=1)
y_test = data['target']

# Load model
model = joblib.load('../models/account_takeover_model.pkl')

# Evaluate model
y_pred = model.predict(X_test)
report = classification_report(y_test, y_pred)
print(report)

# Save report
with open('../reports/model_performance_report.pdf', 'w') as f:
    f.write(report)
